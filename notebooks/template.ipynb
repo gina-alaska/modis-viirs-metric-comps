{
 "cells": [
  {
   "cell_type": "code",
   "execution_count": 2,
   "metadata": {},
   "outputs": [
    {
     "ename": "AttributeError",
     "evalue": "'Config' object has no attribute 'splt_modis_metric_path'",
     "output_type": "error",
     "traceback": [
      "\u001b[0;31m---------------------------------------------------------------------------\u001b[0m",
      "\u001b[0;31mAttributeError\u001b[0m                            Traceback (most recent call last)",
      "Cell \u001b[0;32mIn[2], line 23\u001b[0m\n\u001b[1;32m     20\u001b[0m shapefile\u001b[38;5;241m=\u001b[39m\u001b[38;5;124m'\u001b[39m\u001b[38;5;124m/Users/ojlarson/Desktop/yf/Interior_Refuges.shp\u001b[39m\u001b[38;5;124m'\u001b[39m\n\u001b[1;32m     21\u001b[0m id_field\u001b[38;5;241m=\u001b[39m\u001b[38;5;124m'\u001b[39m\u001b[38;5;124mNWRName\u001b[39m\u001b[38;5;124m'\u001b[39m\n\u001b[0;32m---> 23\u001b[0m ds1 \u001b[38;5;241m=\u001b[39m MetricDataset(\u001b[43mconfig\u001b[49m\u001b[38;5;241;43m.\u001b[39;49m\u001b[43msplt_modis_metric_path\u001b[49m, band,\n\u001b[1;32m     24\u001b[0m                     year, \u001b[38;5;124m'\u001b[39m\u001b[38;5;124mmodis\u001b[39m\u001b[38;5;124m'\u001b[39m, \u001b[38;5;124m'\u001b[39m\u001b[38;5;124mnew-6\u001b[39m\u001b[38;5;124m'\u001b[39m, config\u001b[38;5;241m.\u001b[39mmodis_metric_names)\n\u001b[1;32m     25\u001b[0m ds2 \u001b[38;5;241m=\u001b[39m MetricDataset(config\u001b[38;5;241m.\u001b[39mviirs_metric_path, band,\n\u001b[1;32m     26\u001b[0m                     year, \u001b[38;5;124m'\u001b[39m\u001b[38;5;124mviirs\u001b[39m\u001b[38;5;124m'\u001b[39m, \u001b[38;5;124m'\u001b[39m\u001b[38;5;124mv1\u001b[39m\u001b[38;5;124m'\u001b[39m, config\u001b[38;5;241m.\u001b[39mviirs_metric_names)\n\u001b[1;32m     28\u001b[0m shp_ds \u001b[38;5;241m=\u001b[39m VectorDataset(shapefile, id_field)\n",
      "\u001b[0;31mAttributeError\u001b[0m: 'Config' object has no attribute 'splt_modis_metric_path'"
     ]
    }
   ],
   "source": [
    "import matplotlib.pyplot as plt\n",
    "import rasterio as rio\n",
    "import numpy as np\n",
    "from rasterio.plot import show, show_hist\n",
    "import geopandas as gpd\n",
    "\n",
    "import os, sys\n",
    "project_path = os.path.abspath(os.path.join(os.getcwd(), '..'))\n",
    "sys.path.append(project_path)\n",
    "\n",
    "\n",
    "from metric_comp import MetricDataset, VectorDataset\n",
    "from metric_comp import get_zonal_stats_df, clip_raster, resample_raster, create_summary_stats, compare_summary_stats\n",
    "from config import Config\n",
    "\n",
    "config = Config()\n",
    "\n",
    "band=1\n",
    "year=2015\n",
    "shapefile='/Users/ojlarson/Desktop/yf/Interior_Refuges.shp'\n",
    "id_field='NWRName'\n",
    "\n",
    "ds1 = MetricDataset(config.split_modis_metric_path, band,\n",
    "                    year, 'modis', 'new-6', config.modis_metric_names)\n",
    "ds2 = MetricDataset(config.viirs_metric_path, band,\n",
    "                    year, 'viirs', 'v1', config.viirs_metric_names)\n",
    "\n",
    "shp_ds = VectorDataset(shapefile, id_field)"
   ]
  }
 ],
 "metadata": {
  "kernelspec": {
   "display_name": "venv",
   "language": "python",
   "name": "python3"
  },
  "language_info": {
   "codemirror_mode": {
    "name": "ipython",
    "version": 3
   },
   "file_extension": ".py",
   "mimetype": "text/x-python",
   "name": "python",
   "nbconvert_exporter": "python",
   "pygments_lexer": "ipython3",
   "version": "3.12.7"
  }
 },
 "nbformat": 4,
 "nbformat_minor": 2
}
